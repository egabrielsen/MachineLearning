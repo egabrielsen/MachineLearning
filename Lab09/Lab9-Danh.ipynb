{
 "cells": [
  {
   "cell_type": "markdown",
   "metadata": {},
   "source": [
    "# Lab Assignment 09: Recurrent Network Architectures\n",
    "\n",
    "\n",
    "### Dataset Selection\n",
    "\n",
    "Select a dataset identically to lab two. That is, the dataset must be text data (or time series sequence). In terms of generalization performance, it is helpful to have a large dataset of similar sized text documents. It is fine to perform binary classification or multi-class classification. The classification can be \"many-to-one\" or \"many-to-many\" sequence classification, whichever you feel more comfortable with. \n",
    "\n",
    "### Preparation (40 points total)\n",
    "[20 points] Define and prepare your class variables. Use proper variable representations (int, float, one-hot, etc.). Use pre-processing methods (as needed) for dimensionality reduction, scaling, etc. Remove variables that are not needed/useful for the analysis. Describe the final dataset that is used for classification/regression (include a description of any newly formed variables you created).   \n",
    "\n",
    "[10 points] Choose and explain what metric(s) you will use to evaluate your algorithm’s performance. You should give a detailed argument for why this (these) metric(s) are appropriate on your data. That is, why is the metric appropriate for the task (e.g., in terms of the business case for the task). Please note: rarely is accuracy the best evaluation metric to use. Think deeply about an appropriate measure of performance.\n",
    "\n",
    "[10 points] Choose the method you will use for dividing your data into training and testing (i.e., are you using Stratified 10-fold cross validation? Shuffle splits? Why?). Explain why your chosen method is appropriate or use more than one method as appropriate. Convince me that your cross validation method is a realistic mirroring of how an algorithm would be used in practice. \n",
    "\n",
    "### Modeling (50 points total)\n",
    "\n",
    "[25 points] Investigate at least two different recurrent network architectures (perhaps LSTM and GRU). Adjust hyper-parameters of the networks as needed to improve generalization performance. \n",
    "\n",
    "[25 points] Use the method of cross validation and evaluation metric that you argued for at the beginning of the lab. Visualize the best results of the RNNs.   \n",
    "\n",
    "### Exceptional Work (10 points total)\n",
    "You have free reign to provide additional analyses.\n",
    "\n",
    "One idea: Use more than a single chain of LSTMs or GRUs (i.e., use multiple parallel chains). \n",
    "\n",
    "Another Idea: Try to create a RNN for generating novel text. "
   ]
  },
  {
   "cell_type": "code",
   "execution_count": 12,
   "metadata": {},
   "outputs": [],
   "source": [
    "import pandas as pd\n",
    "import numpy as np\n",
    "import os\n",
    "from scipy.misc import imread\n",
    "import matplotlib.pyplot as plt\n",
    "import random\n",
    "import warnings\n",
    "from keras.datasets import reuters\n",
    "from keras.preprocessing import sequence\n",
    "from keras import utils\n"
   ]
  },
  {
   "cell_type": "code",
   "execution_count": 33,
   "metadata": {
    "collapsed": true
   },
   "outputs": [],
   "source": [
    "top_words = 5000\n",
    "(X_train, y_train), (X_test, y_test) = reuters.load_data(path=\"reuters.npz\",\n",
    "                                                         num_words=top_words,\n",
    "                                                         skip_top=0,\n",
    "                                                         maxlen=None,\n",
    "                                                         test_split=0.2,\n",
    "                                                         seed=113,\n",
    "                                                         start_char=1,\n",
    "                                                         oov_char=2,\n",
    "                                                         index_from=3)"
   ]
  },
  {
   "cell_type": "code",
   "execution_count": 34,
   "metadata": {
    "collapsed": true
   },
   "outputs": [],
   "source": [
    "# truncate and pad input sequences\n",
    "max_art_length = 500\n",
    "NUM_CLASSES = 46\n",
    "X_train = sequence.pad_sequences(X_train, maxlen=max_art_length)\n",
    "X_test = sequence.pad_sequences(X_test, maxlen=max_art_length)\n",
    "\n",
    "y_train_ohe = utils.to_categorical(y_train, NUM_CLASSES)\n",
    "y_test_ohe = utils.to_categorical(y_test, NUM_CLASSES)"
   ]
  },
  {
   "cell_type": "code",
   "execution_count": 24,
   "metadata": {},
   "outputs": [
    {
     "name": "stdout",
     "output_type": "stream",
     "text": [
      "<class 'numpy.ndarray'> (8982, 1000)\n",
      "<class 'numpy.ndarray'> (1000,)\n",
      "Vocabulary size: 4999\n",
      "(8982,) 0 45\n"
     ]
    }
   ],
   "source": [
    "print(type(X_train),X_train.shape)\n",
    "print(type(X_train[0]),X_train[0].shape)\n",
    "print('Vocabulary size:', np.max(X_train))\n",
    "print(y_train.shape, np.min(y_train), np.max(y_train))"
   ]
  },
  {
   "cell_type": "code",
   "execution_count": 35,
   "metadata": {},
   "outputs": [
    {
     "name": "stdout",
     "output_type": "stream",
     "text": [
      "_________________________________________________________________\n",
      "Layer (type)                 Output Shape              Param #   \n",
      "=================================================================\n",
      "input_9 (InputLayer)         (None, 500)               0         \n",
      "_________________________________________________________________\n",
      "embedding_9 (Embedding)      (None, 500, 50)           250000    \n",
      "_________________________________________________________________\n",
      "simple_rnn_9 (SimpleRNN)     (None, 50)                5050      \n",
      "_________________________________________________________________\n",
      "dense_13 (Dense)             (None, 46)                2346      \n",
      "=================================================================\n",
      "Total params: 257,396\n",
      "Trainable params: 257,396\n",
      "Non-trainable params: 0\n",
      "_________________________________________________________________\n",
      "None\n",
      "_________________________________________________________________\n",
      "Layer (type)                 Output Shape              Param #   \n",
      "=================================================================\n",
      "input_9 (InputLayer)         (None, 500)               0         \n",
      "_________________________________________________________________\n",
      "embedding_9 (Embedding)      (None, 500, 50)           250000    \n",
      "_________________________________________________________________\n",
      "lstm_5 (LSTM)                (None, 50)                20200     \n",
      "_________________________________________________________________\n",
      "dense_14 (Dense)             (None, 46)                2346      \n",
      "=================================================================\n",
      "Total params: 272,546\n",
      "Trainable params: 272,546\n",
      "Non-trainable params: 0\n",
      "_________________________________________________________________\n",
      "None\n",
      "_________________________________________________________________\n",
      "Layer (type)                 Output Shape              Param #   \n",
      "=================================================================\n",
      "input_9 (InputLayer)         (None, 500)               0         \n",
      "_________________________________________________________________\n",
      "embedding_9 (Embedding)      (None, 500, 50)           250000    \n",
      "_________________________________________________________________\n",
      "gru_5 (GRU)                  (None, 50)                15150     \n",
      "_________________________________________________________________\n",
      "dense_15 (Dense)             (None, 46)                2346      \n",
      "=================================================================\n",
      "Total params: 267,496\n",
      "Trainable params: 267,496\n",
      "Non-trainable params: 0\n",
      "_________________________________________________________________\n",
      "None\n"
     ]
    }
   ],
   "source": [
    "from keras.models import Sequential, Input, Model\n",
    "from keras.layers import Dense\n",
    "from keras.layers import LSTM, GRU, SimpleRNN\n",
    "from keras.layers.embeddings import Embedding\n",
    "\n",
    "EMBED_SIZE = 50\n",
    "rnns = []\n",
    "input_holder = Input(shape=(X_train.shape[1], ))\n",
    "shared_embed = Embedding(top_words, \n",
    "                EMBED_SIZE, \n",
    "                input_length=max_review_length)(input_holder)\n",
    "\n",
    "for func in [SimpleRNN, LSTM, GRU]:\n",
    "    \n",
    "    x = func(50,dropout=0.2, recurrent_dropout=0.2)(shared_embed)\n",
    "    x = Dense(NUM_CLASSES, activation='sigmoid')(x)\n",
    "    rnn=Model(inputs=input_holder,outputs=x)\n",
    "    rnn.compile(loss='binary_crossentropy', \n",
    "                  optimizer='rmsprop', \n",
    "                  metrics=['accuracy'])\n",
    "    print(rnn.summary())\n",
    "    rnns.append(rnn)"
   ]
  },
  {
   "cell_type": "code",
   "execution_count": 37,
   "metadata": {},
   "outputs": [
    {
     "name": "stdout",
     "output_type": "stream",
     "text": [
      "======= simple ========\n",
      "Train on 8982 samples, validate on 2246 samples\n",
      "Epoch 1/3\n",
      "8982/8982 [==============================] - 20s - loss: 0.3382 - acc: 0.8897 - val_loss: 0.0795 - val_acc: 0.9783\n",
      "Epoch 2/3\n",
      "8982/8982 [==============================] - 25s - loss: 0.0757 - acc: 0.9783 - val_loss: 0.0726 - val_acc: 0.9783\n",
      "Epoch 3/3\n",
      "8982/8982 [==============================] - 21s - loss: 0.0724 - acc: 0.9783 - val_loss: 0.0717 - val_acc: 0.9783\n",
      "======= lstm ========\n",
      "Train on 8982 samples, validate on 2246 samples\n",
      "Epoch 1/3\n",
      "8982/8982 [==============================] - 58s - loss: 0.1382 - acc: 0.9697 - val_loss: 0.0723 - val_acc: 0.9783\n",
      "Epoch 2/3\n",
      "8982/8982 [==============================] - 56s - loss: 0.0720 - acc: 0.9783 - val_loss: 0.0721 - val_acc: 0.9783\n",
      "Epoch 3/3\n",
      "8982/8982 [==============================] - 55s - loss: 0.0705 - acc: 0.9795 - val_loss: 0.0638 - val_acc: 0.9839\n",
      "======= gru ========\n",
      "Train on 8982 samples, validate on 2246 samples\n",
      "Epoch 1/3\n",
      "8982/8982 [==============================] - 72s - loss: 0.1495 - acc: 0.9632 - val_loss: 0.0722 - val_acc: 0.9783\n",
      "Epoch 2/3\n",
      "8982/8982 [==============================] - 77s - loss: 0.0718 - acc: 0.9783 - val_loss: 0.0701 - val_acc: 0.9783\n",
      "Epoch 3/3\n",
      "8982/8982 [==============================] - 54s - loss: 0.0653 - acc: 0.9820 - val_loss: 0.0611 - val_acc: 0.9842\n"
     ]
    }
   ],
   "source": [
    "for rnn, name in zip(rnns,['simple','lstm','gru']):\n",
    "    print('=======',name,'========')\n",
    "    rnn.fit(X_train, y_train_ohe, epochs=3, batch_size=64, validation_data=(X_test, y_test_ohe))"
   ]
  },
  {
   "cell_type": "code",
   "execution_count": null,
   "metadata": {
    "collapsed": true
   },
   "outputs": [],
   "source": []
  }
 ],
 "metadata": {
  "kernelspec": {
   "display_name": "Python 3",
   "language": "python",
   "name": "python3"
  },
  "language_info": {
   "codemirror_mode": {
    "name": "ipython",
    "version": 3
   },
   "file_extension": ".py",
   "mimetype": "text/x-python",
   "name": "python",
   "nbconvert_exporter": "python",
   "pygments_lexer": "ipython3",
   "version": "3.5.2"
  }
 },
 "nbformat": 4,
 "nbformat_minor": 2
}

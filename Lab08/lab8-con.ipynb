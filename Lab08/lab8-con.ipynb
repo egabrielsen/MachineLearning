{
 "cells": [
  {
   "cell_type": "markdown",
   "metadata": {
    "deletable": true,
    "editable": true
   },
   "source": [
    "## Preparation (40 points total)\n",
    "\n",
    "* [10 points] Define and prepare your class variables. Use proper variable representations (int, float, one-hot, etc.). Use pre-processing methods (as needed) for dimensionality reduction, scaling, etc. Remove variables that are not needed/useful for the analysis. Describe the final dataset that is used for classification/regression (include a description of any newly formed variables you created).   \n",
    "* [15 points] Choose and explain what metric(s) you will use to evaluate your algorithm’s performance. You should give a detailed argument for why this (these) metric(s) are appropriate on your data. That is, why is the metric appropriate for the task (e.g., in terms of the business case for the task). Please note: rarely is accuracy the best evaluation metric to use. Think deeply about an appropriate measure of performance.\n",
    "* [15 points] Choose the method you will use for dividing your data into training and testing (i.e., are you using Stratified 10-fold cross validation? Shuffle splits? Why?). Explain why your chosen method is appropriate or use more than one method as appropriate. Convince me that your cross validation method is a realistic mirroring of how an algorithm would be used in practice. \n",
    "\n",
    "## Modeling (50 points total)\n",
    "\n",
    "* [20 points] Create a convolutional neural network to use on your data using tensorflow. \n",
    "* [20 points] Investigate at least two different deep network architectures. Use the method of cross validation and evaluation metric that you argued for at the beginning of the lab. Visualize the results of the CNNs. \n",
    "* [10 points] Compare the performance of your convolutional network to a standard multi-layer perceptron (MLP) using the receiver operating characteristic and area under the curve.   \n",
    "\n",
    "## Exceptional Work (10 points total)\n",
    "\n",
    "You have free reign to provide additional analyses.\n",
    "One idea: Visualize the convolutional filters chosen by your CNN. Try to interpret some of their meanings."
   ]
  },
  {
   "cell_type": "code",
   "execution_count": 56,
   "metadata": {
    "collapsed": false,
    "deletable": true,
    "editable": true
   },
   "outputs": [
    {
     "data": {
      "text/plain": [
       "'2.0.3'"
      ]
     },
     "execution_count": 56,
     "metadata": {},
     "output_type": "execute_result"
    }
   ],
   "source": [
    "from keras.datasets import cifar10\n",
    "from keras.models import Sequential, Input, Model\n",
    "from keras.layers import Reshape, Dense, Dropout, Activation, Flatten, Conv2D, MaxPooling2D\n",
    "from keras.regularizers import l2\n",
    "from keras.preprocessing.image import ImageDataGenerator\n",
    "from keras.layers.normalization import BatchNormalization\n",
    "from keras.callbacks import EarlyStopping\n",
    "import keras\n",
    "import matplotlib.pyplot as plt\n",
    "keras.__version__"
   ]
  },
  {
   "cell_type": "code",
   "execution_count": 29,
   "metadata": {
    "collapsed": false,
    "deletable": true,
    "editable": true
   },
   "outputs": [
    {
     "name": "stdout",
     "output_type": "stream",
     "text": [
      "Epoch 1/50\n",
      "30s - loss: 1.7429 - acc: 0.3803 - val_loss: 1.8175 - val_acc: 0.3499\n",
      "Epoch 2/50\n",
      "30s - loss: 1.4882 - acc: 0.4768 - val_loss: 2.5766 - val_acc: 0.2809\n",
      "Epoch 3/50\n",
      "30s - loss: 1.3897 - acc: 0.5140 - val_loss: 1.3168 - val_acc: 0.5409\n",
      "Epoch 4/50\n",
      "29s - loss: 1.3320 - acc: 0.5358 - val_loss: 1.2676 - val_acc: 0.5562\n",
      "Epoch 5/50\n",
      "29s - loss: 1.2866 - acc: 0.5517 - val_loss: 1.2594 - val_acc: 0.5682\n",
      "Epoch 6/50\n",
      "29s - loss: 1.2514 - acc: 0.5625 - val_loss: 1.5797 - val_acc: 0.4836\n",
      "Epoch 7/50\n",
      "30s - loss: 1.2299 - acc: 0.5720 - val_loss: 1.4318 - val_acc: 0.5109\n",
      "Epoch 8/50\n",
      "29s - loss: 1.2071 - acc: 0.5805 - val_loss: 1.5222 - val_acc: 0.4893\n",
      "Epoch 9/50\n",
      "29s - loss: 1.1900 - acc: 0.5865 - val_loss: 1.4509 - val_acc: 0.4974\n",
      "Epoch 10/50\n",
      "30s - loss: 1.1735 - acc: 0.5923 - val_loss: 1.3758 - val_acc: 0.5397\n"
     ]
    },
    {
     "data": {
      "text/plain": [
       "<keras.callbacks.History at 0x7f599f3a1550>"
      ]
     },
     "execution_count": 29,
     "metadata": {},
     "output_type": "execute_result"
    }
   ],
   "source": [
    "l2_lambda = 0.0001\n",
    "\n",
    "(x_train, y_train), (x_test, y_test) = cifar10.load_data()\n",
    "NUM_CLASSES = 10\n",
    "y_train_ohe = keras.utils.to_categorical(y_train, NUM_CLASSES)\n",
    "y_test_ohe = keras.utils.to_categorical(y_test, NUM_CLASSES)\n",
    "\n",
    "datagen = ImageDataGenerator(featurewise_center=False,\n",
    "    samplewise_center=False,\n",
    "    featurewise_std_normalization=False,\n",
    "    samplewise_std_normalization=False,\n",
    "    zca_whitening=False,\n",
    "    rotation_range=5,\n",
    "    width_shift_range=0.1,\n",
    "    height_shift_range=0.1,\n",
    "    shear_range=0.\n",
    ")\n",
    "datagen.fit(x_train)\n",
    "\n",
    "# build model\n",
    "lenet = Sequential()\n",
    "lenet.add(Conv2D(filters=6,kernel_size=(5,5),\n",
    "               input_shape = (32,32,3), \n",
    "               padding='valid', \n",
    "               kernel_initializer='he_uniform', \n",
    "               kernel_regularizer=l2(l2_lambda)))\n",
    "lenet.add(MaxPooling2D(pool_size=(2, 2), data_format=\"channels_last\"))\n",
    "lenet.add(BatchNormalization())\n",
    "lenet.add(Activation(\"sigmoid\"))\n",
    "lenet.add(Conv2D(filters=16,kernel_size=(5,5), \n",
    "               padding='valid', \n",
    "               kernel_initializer='he_uniform', \n",
    "               kernel_regularizer=l2(l2_lambda)))\n",
    "lenet.add(MaxPooling2D(pool_size=(2, 2), data_format=\"channels_last\"))\n",
    "lenet.add(BatchNormalization())\n",
    "lenet.add(Activation(\"sigmoid\"))\n",
    "#lenet.add(Dropout(0.5))\n",
    "lenet.add(Conv2D(filters=120,kernel_size=(1,1), \n",
    "               padding='valid', \n",
    "               kernel_initializer='he_uniform', \n",
    "               kernel_regularizer=l2(l2_lambda)))\n",
    "\n",
    "lenet.add(Flatten())\n",
    "lenet.add(Dense(84))\n",
    "lenet.add(Activation(\"sigmoid\"))\n",
    "lenet.add(Dense(NUM_CLASSES))\n",
    "lenet.add(Activation('softmax'))\n",
    "lenet.compile(loss='categorical_crossentropy', # 'categorical_crossentropy' 'mean_squared_error'\n",
    "                optimizer='rmsprop', # 'adadelta' 'rmsprop'\n",
    "                metrics=['accuracy'])\n",
    "\n",
    "# the flow method yields batches of images indefinitely, with the given transofmrations\n",
    "lenet.fit_generator(datagen.flow(x_train, y_train_ohe, batch_size=128), \n",
    "  steps_per_epoch=int(len(x_train)/128), # how many generators to go through per epoch\n",
    "  epochs=50, verbose=2,\n",
    "  validation_data=(x_test,y_test_ohe),\n",
    "  callbacks=[EarlyStopping(monitor='val_loss', patience=4)]\n",
    " )"
   ]
  },
  {
   "cell_type": "code",
   "execution_count": 81,
   "metadata": {
    "collapsed": false
   },
   "outputs": [
    {
     "data": {
      "image/png": "[encoded data removed]",
      "text/plain": [
       "<matplotlib.figure.Figure at 0x7f5976e60240>"
      ]
     },
     "metadata": {},
     "output_type": "display_data"
    },
    {
     "data": {
      "image/png": "[encoded data removed]",
      "text/plain": [
       "<matplotlib.figure.Figure at 0x7f59775a9400>"
      ]
     },
     "metadata": {},
     "output_type": "display_data"
    },
    {
     "data": {
      "image/png": "[encoded data removed]",
      "text/plain": [
       "<matplotlib.figure.Figure at 0x7f59778b2048>"
      ]
     },
     "metadata": {},
     "output_type": "display_data"
    }
   ],
   "source": [
    "max_plots = 15\n",
    "for layer in lenet.layers:\n",
    "    if type(layer) == keras.layers.convolutional.Conv2D:\n",
    "        weights = layer.get_weights()[0]\n",
    "        for i in range(min(weights.shape[-1], max_plots)):\n",
    "            plt.subplot(1, min(weights.shape[-1], max_plots), i+1)\n",
    "            plt.imshow(weights[:,:,0,i])\n",
    "            plt.axis('off')\n",
    "        plt.show()\n"
   ]
  }
 ],
 "metadata": {
  "kernelspec": {
   "display_name": "Python 3",
   "language": "python",
   "name": "python3"
  }
 },
 "nbformat": 4,
 "nbformat_minor": 2
}
